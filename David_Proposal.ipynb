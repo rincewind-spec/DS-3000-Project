{
 "cells": [
  {
   "cell_type": "markdown",
   "id": "fddab3d9-9d13-49c1-a779-0f58d1b829de",
   "metadata": {},
   "source": [
    "## Phase I Project Proposal \n",
    "\n",
    "### What Makes an MMA Fighter Good?\n",
    "\n",
    "#### Name: Christopher David, DS 3000\n"
   ]
  },
  {
   "cell_type": "markdown",
   "id": "28810bb5-ac35-424b-8005-54f38b770ec2",
   "metadata": {},
   "source": [
    "### Introduction\n",
    "\n",
    "Mixed Martial Arts (MMA) is a dynamic and complex sport that requires a combination of physical attributes, technical skill, and strategic intelligence. The question arises: what characteristics make an MMA fighter successful? While attributes such as height, reach, and stance play a role in a fighter's effectiveness, other aspects like match strategy and fight intelligence might be equally—if not more—important. This project aims to explore the relationship between physical attributes and fight outcomes, helping to determine which factors contribute most to success in the octagon.

By analyzing historical fight data, I hope to identify trends that can be used to predict fight results and provide recommendations for aspiring MMA athletes. Additionally, this project will allow me to explore correlations between specific physical traits and fight outcomes, potentially revealing whether certain features provide an advantage in specific matchups.. "
   ]
  },
  {
   "cell_type": "markdown",
   "id": "4168a505-3db2-464d-8bf4-e7d4ef506641",
   "metadata": {},
   "source": [
    "## Data Collection \n",
    "I plan to web scrap UFC stats section from there website in order to find and utilize the most relavant data to the questions. Futhermore not only will I be implementing web scrapping I will also use API-Sports's API for MMA as well. In terms of the web scraping aspect I do not believe that it will be hard as it is already in a table format. By utilizing these two data tools, I will have relavent as well as properly updated data that will allow me to make accurate correlations and conclusions. I have demonstrated below how I read in the data. "
   ]
  },
  {
   "cell_type": "code",
   "execution_count": 92,
   "id": "e1cb46c5-cafc-43b7-8899-2ada1e0f0a9e",
   "metadata": {},
   "outputs": [
    {
     "name": "stdout",
     "output_type": "stream",
     "text": [
      "        First          Last              Nickname     Ht.       Wt.  Reach  \\\n",
      "0         Tom         Aaron                            --  155 lbs.     --   \n",
      "1       Danny        Abbadi          The Assassin  5' 11\"  155 lbs.     --   \n",
      "2     Nariman       Abbasov             Bayraktar   5' 8\"  155 lbs.  66.0\"   \n",
      "3       David        Abbott                  Tank   6' 0\"  265 lbs.     --   \n",
      "4       Hamdy    Abdelwahab            The Hammer   6' 2\"  264 lbs.  72.0\"   \n",
      "5      Mansur   Abdul-Malik                         6' 2\"  185 lbs.  79.0\"   \n",
      "6      Shamil  Abdurakhimov                 Abrek   6' 3\"  235 lbs.  76.0\"   \n",
      "7    Hiroyuki           Abe               Abe Ani   5' 6\"  145 lbs.     --   \n",
      "8      Daichi           Abe                        5' 11\"  170 lbs.  71.0\"   \n",
      "9        Papy         Abedi               Makambo  5' 11\"  185 lbs.     --   \n",
      "10    Ricardo         Abreu               Demente  5' 11\"  185 lbs.     --   \n",
      "11    Klidson         Abreu            White Bear   6' 0\"  205 lbs.  74.0\"   \n",
      "12     Cyborg         Abreu                            --        --     --   \n",
      "13     Daniel        Acacio                         5' 8\"  180 lbs.     --   \n",
      "14       John        Adajar            The Outlaw   5' 9\"  170 lbs.  75.0\"   \n",
      "15      Scott         Adams                         6' 0\"  225 lbs.     --   \n",
      "16       Juan         Adams            The Kraken   6' 5\"  265 lbs.  80.0\"   \n",
      "17    Anthony         Adams              Sugafoot   6' 1\"  185 lbs.  76.0\"   \n",
      "18    Zarrukh       Adashev              The Lion   5' 5\"  125 lbs.  65.0\"   \n",
      "19     Israel      Adesanya  The Last Stylebender   6' 4\"  185 lbs.  80.0\"   \n",
      "20        Sam        Adkins        The Experience   6' 3\"  225 lbs.     --   \n",
      "21    Mohamed           Ado                        5' 11\"  170 lbs.  76.0\"   \n",
      "22       Nick       Agallar                         5' 8\"  155 lbs.     --   \n",
      "23     Mariya       Agapova          Money Mashka   5' 6\"  125 lbs.  68.0\"   \n",
      "24  Kantharaj         Agasa             Kannadiga      --  135 lbs.     --   \n",
      "\n",
      "      Stance   W   L  D Belt  \n",
      "0              5   3  0       \n",
      "1   Orthodox   4   6  0       \n",
      "2   Orthodox  28   4  0       \n",
      "3     Switch  10  15  0       \n",
      "4   Southpaw   6   0  0       \n",
      "5   Orthodox   7   0  0       \n",
      "6   Orthodox  20   8  0       \n",
      "7   Orthodox   8  15  3       \n",
      "8   Orthodox   6   2  0       \n",
      "9   Southpaw  10   4  0       \n",
      "10  Orthodox   5   1  0       \n",
      "11  Orthodox  15   4  0       \n",
      "12             0   0  0       \n",
      "13  Orthodox  30  18  0       \n",
      "14  Orthodox   6   2  0       \n",
      "15  Southpaw   8   1  0       \n",
      "16  Orthodox   5   3  0       \n",
      "17  Orthodox   8   2  0       \n",
      "18  Southpaw   4   4  0       \n",
      "19    Switch  24   5  0       \n",
      "20  Orthodox   7  20  2       \n",
      "21    Switch   5   1  0       \n",
      "22  Orthodox  24   6  0       \n",
      "23  Southpaw  10   5  0       \n",
      "24            12   3  0       \n"
     ]
    }
   ],
   "source": [
    "import requests\n",
    "from bs4 import BeautifulSoup\n",
    "import pandas as pd\n",
    "\n",
    "# Url for scraping\n",
    "url = 'http://ufcstats.com/statistics/fighters'\n",
    "\n",
    "response = requests.get(url)\n",
    "\n",
    "soup = BeautifulSoup(response.text, \"html.parser\")\n",
    "\n",
    "# locates the table\n",
    "mma_stats_table = soup.find('table', class_='b-statistics__table')\n",
    "\n",
    "# header of the table (makes sure DF has proper column names) \n",
    "headers = [header.text.strip() for header in mma_stats_table.find_all('th')]\n",
    "\n",
    "# table rows \n",
    "rows = []\n",
    "\n",
    "# gets rid of the first two headers \n",
    "for row in mma_stats_table.find_all('tr')[2:]: \n",
    "    cols = row.find_all('td')\n",
    "    cols = [col.text.strip() for col in cols]\n",
    "    \n",
    "    if cols: \n",
    "        rows.append(cols)\n",
    "\n",
    "# creates the data frame, printing the column names as the headers \n",
    "df = pd.DataFrame(rows, columns=headers)\n",
    "\n",
    "# Output \n",
    "print(df)\n"
   ]
  },
  {
   "cell_type": "markdown",
   "id": "3c318fbb-cf02-40b4-9c3e-0af836cfd76e",
   "metadata": {},
   "source": [
    "### Data Utilizations and Multiple Page Issues\n",
    "\n",
    "The data above has been scrapped to the best of my ability, I still need to figure out how to get multiple pages but I am planning on going to office hours to help find a solution. The data above is well suited to answer the questions previously stated as it provides me with the height, weight, reach as well as win-to-loss stats. For the future, in terms of the table above, I plan to get rid of the nickname column as well as the belt as I do not think they are distinct features that I will be able to draw any correlations from. Additionally, I will also in the future be using the MMA API and will need to implement the code above. By using the API I will be able to bring in data such as head-to-head statistics as well as weight class rankings. Nonetheless, currently, the data above will help me solve the questions presented before as I will take the data and create various tests such as characterizing relationships between features or regression that will not only figure out if there is a correlation between features and wins but find which features connect with various match outcomes. By doing so I believe I will properly be able to make accurate conclusions to the questions. However, I would also need to further investigate ML techniques to do so. "
   ]
  },
  {
   "cell_type": "code",
   "execution_count": null,
   "id": "8277e0f9-25a7-47a2-a689-07e86386a6f7",
   "metadata": {},
   "outputs": [],
   "source": []
  }
 ],
 "metadata": {
  "kernelspec": {
   "display_name": "Python [conda env:anaconda3] *",
   "language": "python",
   "name": "conda-env-anaconda3-py"
  },
  "language_info": {
   "codemirror_mode": {
    "name": "ipython",
    "version": 3
   },
   "file_extension": ".py",
   "mimetype": "text/x-python",
   "name": "python",
   "nbconvert_exporter": "python",
   "pygments_lexer": "ipython3",
   "version": "3.11.5"
  }
 },
 "nbformat": 4,
 "nbformat_minor": 5
}
