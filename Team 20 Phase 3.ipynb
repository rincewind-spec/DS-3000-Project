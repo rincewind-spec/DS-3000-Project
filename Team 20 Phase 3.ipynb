{
 "cells": [
  {
   "cell_type": "markdown",
   "id": "a170f978-a314-4762-a9ca-313c7f3d08df",
   "metadata": {},
   "source": [
    "# Team 20 Phase III\n",
    "\n",
    "### Team Members: \n",
    "- An Ding\n",
    "- Brennan Jacobs\n",
    "- Christopher David\n",
    "- Benjamin Shaar"
   ]
  },
  {
   "cell_type": "code",
   "execution_count": null,
   "id": "6ec5ee9f-46ad-4559-85d4-ae320470d12f",
   "metadata": {},
   "outputs": [],
   "source": []
  }
 ],
 "metadata": {
  "kernelspec": {
   "display_name": "Python 3 (ipykernel)",
   "language": "python",
   "name": "python3"
  },
  "language_info": {
   "codemirror_mode": {
    "name": "ipython",
    "version": 3
   },
   "file_extension": ".py",
   "mimetype": "text/x-python",
   "name": "python",
   "nbconvert_exporter": "python",
   "pygments_lexer": "ipython3",
   "version": "3.12.5"
  }
 },
 "nbformat": 4,
 "nbformat_minor": 5
}
